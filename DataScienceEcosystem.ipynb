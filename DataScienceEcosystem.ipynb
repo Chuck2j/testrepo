{
 "cells": [
  {
   "cell_type": "markdown",
   "id": "3f0fc063-6ecc-4f7f-b669-1f3c200e865e",
   "metadata": {},
   "source": [
    "# Data Science Tools and Ecosystem"
   ]
  },
  {
   "cell_type": "markdown",
   "id": "89290ef2-c3b2-4e1b-b046-43a6fd2b8133",
   "metadata": {},
   "source": [
    "In this notebook, Data Science Tools and Ecosystem are summarized."
   ]
  },
  {
   "cell_type": "markdown",
   "id": "ee023e1b-6946-48ac-a69f-18885717ea3a",
   "metadata": {},
   "source": [
    "**Objectives:**\n",
    "+ learn the languages\n",
    "+ know the tools\n",
    "+ practice with different libraries"
   ]
  },
  {
   "cell_type": "markdown",
   "id": "245fcefc-754d-4dfc-aa69-55fc0428a82a",
   "metadata": {},
   "source": [
    "Some of the popular languages that Data Scientists use are:\n",
    "1. Python\n",
    "2. R\n",
    "3. SQL\n",
    "4. Java"
   ]
  },
  {
   "cell_type": "markdown",
   "id": "2eb1a25e-7e1e-4b09-a798-41ea36018e7e",
   "metadata": {},
   "source": [
    "Some of the commonly used libraries used by Data Scientists include:\n",
    "1. Pandas\n",
    "2. NumPy\n",
    "3. ggplot2\n",
    "4. Matplotlib"
   ]
  },
  {
   "cell_type": "markdown",
   "id": "135a8e2f-e76e-4728-8c00-f29a12e1fe76",
   "metadata": {},
   "source": [
    "| Data Science Tools |\n",
    "| ------------------ |\n",
    "| Visual Studio Code |\n",
    "| R Studio |\n",
    "| Jupyter Notebook |"
   ]
  },
  {
   "cell_type": "markdown",
   "id": "87314dce-216a-48d3-b545-3ef3076ff06c",
   "metadata": {},
   "source": [
    "### Below are a few examples of evaluating arithmetic expressions in Python"
   ]
  },
  {
   "cell_type": "code",
   "execution_count": 2,
   "id": "e5f4cf45-8d7a-47c7-b867-df43fbffea6f",
   "metadata": {},
   "outputs": [
    {
     "name": "stdout",
     "output_type": "stream",
     "text": [
      "17\n"
     ]
    }
   ],
   "source": [
    "# This a simple arithmetic expression to mutiply then add integers\n",
    "\n",
    "x= (3*4)+5\n",
    "print(x)"
   ]
  },
  {
   "cell_type": "code",
   "execution_count": 5,
   "id": "5c0f8f68-9620-48be-9436-e6fc31988ea7",
   "metadata": {},
   "outputs": [
    {
     "name": "stdout",
     "output_type": "stream",
     "text": [
      "3.3333333333333335\n"
     ]
    }
   ],
   "source": [
    "# This will convert 200 minutes to hours by diving by 60\n",
    "\n",
    "minutes = 200\n",
    "hours = minutes / 60\n",
    "print (hours)"
   ]
  },
  {
   "cell_type": "markdown",
   "id": "993e5b56-b5d8-44fc-88a8-800374671af1",
   "metadata": {},
   "source": [
    "## Author\n",
    "Carlos"
   ]
  },
  {
   "cell_type": "code",
   "execution_count": null,
   "id": "ca38d51a-f40c-4233-a02c-0862aee35bab",
   "metadata": {},
   "outputs": [],
   "source": []
  }
 ],
 "metadata": {
  "kernelspec": {
   "display_name": "Python 3 (ipykernel)",
   "language": "python",
   "name": "python3"
  },
  "language_info": {
   "codemirror_mode": {
    "name": "ipython",
    "version": 3
   },
   "file_extension": ".py",
   "mimetype": "text/x-python",
   "name": "python",
   "nbconvert_exporter": "python",
   "pygments_lexer": "ipython3",
   "version": "3.12.6"
  }
 },
 "nbformat": 4,
 "nbformat_minor": 5
}
